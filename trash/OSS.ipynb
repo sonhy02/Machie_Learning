{
 "cells": [
  {
   "cell_type": "code",
   "id": "initial_id",
   "metadata": {
    "collapsed": true,
    "ExecuteTime": {
     "end_time": "2024-05-14T10:31:12.770249Z",
     "start_time": "2024-05-14T10:31:12.767092Z"
    }
   },
   "source": [
    "from sklearn.datasets import load_iris\n",
    "iris = load_iris()\n"
   ],
   "outputs": [],
   "execution_count": 5
  },
  {
   "metadata": {
    "ExecuteTime": {
     "end_time": "2024-05-14T10:31:27.316696Z",
     "start_time": "2024-05-14T10:31:27.313904Z"
    }
   },
   "cell_type": "code",
   "source": "print(iris.data.shape)",
   "id": "dfd87cbe009d29d6",
   "outputs": [
    {
     "name": "stdout",
     "output_type": "stream",
     "text": [
      "(150, 4)\n"
     ]
    }
   ],
   "execution_count": 7
  },
  {
   "metadata": {
    "ExecuteTime": {
     "end_time": "2024-05-14T10:42:50.992519Z",
     "start_time": "2024-05-14T10:42:50.987766Z"
    }
   },
   "cell_type": "code",
   "source": "언제끝남=print(\"언제 끝남\")",
   "id": "1fc4e8328258888b",
   "outputs": [
    {
     "name": "stdout",
     "output_type": "stream",
     "text": [
      "언제 끝남\n"
     ]
    }
   ],
   "execution_count": 8
  },
  {
   "metadata": {
    "ExecuteTime": {
     "end_time": "2024-05-14T10:43:14.122870Z",
     "start_time": "2024-05-14T10:43:14.120766Z"
    }
   },
   "cell_type": "code",
   "source": "언제끝남",
   "id": "6d93592cef79090c",
   "outputs": [],
   "execution_count": 11
  },
  {
   "metadata": {},
   "cell_type": "code",
   "outputs": [],
   "execution_count": null,
   "source": "",
   "id": "b7e1f515f041b482"
  }
 ],
 "metadata": {
  "kernelspec": {
   "display_name": "Python 3",
   "language": "python",
   "name": "python3"
  },
  "language_info": {
   "codemirror_mode": {
    "name": "ipython",
    "version": 2
   },
   "file_extension": ".py",
   "mimetype": "text/x-python",
   "name": "python",
   "nbconvert_exporter": "python",
   "pygments_lexer": "ipython2",
   "version": "2.7.6"
  }
 },
 "nbformat": 4,
 "nbformat_minor": 5
}
