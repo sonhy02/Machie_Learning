{
 "cells": [
  {
   "cell_type": "code",
   "id": "initial_id",
   "metadata": {
    "collapsed": true,
    "ExecuteTime": {
     "end_time": "2024-06-04T13:17:15.193861Z",
     "start_time": "2024-06-04T13:17:15.191243Z"
    }
   },
   "source": "import numpy as np",
   "outputs": [],
   "execution_count": 22
  },
  {
   "metadata": {
    "ExecuteTime": {
     "end_time": "2024-06-04T13:17:15.199052Z",
     "start_time": "2024-06-04T13:17:15.196982Z"
    }
   },
   "cell_type": "code",
   "source": "data = np.random.randn(2,3)",
   "id": "8788020ec83a4e03",
   "outputs": [],
   "execution_count": 23
  },
  {
   "metadata": {
    "ExecuteTime": {
     "end_time": "2024-06-04T13:17:15.202880Z",
     "start_time": "2024-06-04T13:17:15.200311Z"
    }
   },
   "cell_type": "code",
   "source": "data",
   "id": "9acf04abac6dee3b",
   "outputs": [
    {
     "data": {
      "text/plain": [
       "array([[-0.29854302,  1.14368714,  0.81987559],\n",
       "       [ 1.56930261,  0.15364882, -0.33836704]])"
      ]
     },
     "execution_count": 24,
     "metadata": {},
     "output_type": "execute_result"
    }
   ],
   "execution_count": 24
  },
  {
   "metadata": {
    "ExecuteTime": {
     "end_time": "2024-06-04T13:17:15.205670Z",
     "start_time": "2024-06-04T13:17:15.203961Z"
    }
   },
   "cell_type": "code",
   "source": [
    "data1 = [6,7.5,8,0,1]\n",
    "arr1 = np.array(data1)"
   ],
   "id": "fe0ea1043f6c9fcc",
   "outputs": [],
   "execution_count": 25
  },
  {
   "metadata": {
    "ExecuteTime": {
     "end_time": "2024-06-04T13:17:15.228557Z",
     "start_time": "2024-06-04T13:17:15.225833Z"
    }
   },
   "cell_type": "code",
   "source": "arr1",
   "id": "15b866069a106741",
   "outputs": [
    {
     "data": {
      "text/plain": [
       "array([6. , 7.5, 8. , 0. , 1. ])"
      ]
     },
     "execution_count": 26,
     "metadata": {},
     "output_type": "execute_result"
    }
   ],
   "execution_count": 26
  },
  {
   "metadata": {
    "ExecuteTime": {
     "end_time": "2024-06-04T13:17:15.231769Z",
     "start_time": "2024-06-04T13:17:15.229658Z"
    }
   },
   "cell_type": "code",
   "source": "np.zeros(10)",
   "id": "c33335ef85c14aa1",
   "outputs": [
    {
     "data": {
      "text/plain": [
       "array([0., 0., 0., 0., 0., 0., 0., 0., 0., 0.])"
      ]
     },
     "execution_count": 27,
     "metadata": {},
     "output_type": "execute_result"
    }
   ],
   "execution_count": 27
  },
  {
   "metadata": {
    "ExecuteTime": {
     "end_time": "2024-06-04T13:17:15.234784Z",
     "start_time": "2024-06-04T13:17:15.232518Z"
    }
   },
   "cell_type": "code",
   "source": "np.zeros((3,6))",
   "id": "e196e9b689470cc1",
   "outputs": [
    {
     "data": {
      "text/plain": [
       "array([[0., 0., 0., 0., 0., 0.],\n",
       "       [0., 0., 0., 0., 0., 0.],\n",
       "       [0., 0., 0., 0., 0., 0.]])"
      ]
     },
     "execution_count": 28,
     "metadata": {},
     "output_type": "execute_result"
    }
   ],
   "execution_count": 28
  },
  {
   "metadata": {
    "ExecuteTime": {
     "end_time": "2024-06-04T13:17:15.241359Z",
     "start_time": "2024-06-04T13:17:15.238984Z"
    }
   },
   "cell_type": "code",
   "source": "np.arange(15)",
   "id": "d127bcd7720da5c2",
   "outputs": [
    {
     "data": {
      "text/plain": [
       "array([ 0,  1,  2,  3,  4,  5,  6,  7,  8,  9, 10, 11, 12, 13, 14])"
      ]
     },
     "execution_count": 29,
     "metadata": {},
     "output_type": "execute_result"
    }
   ],
   "execution_count": 29
  },
  {
   "metadata": {
    "ExecuteTime": {
     "end_time": "2024-06-04T13:17:15.244340Z",
     "start_time": "2024-06-04T13:17:15.242295Z"
    }
   },
   "cell_type": "code",
   "source": "np.empty((2,3,2))",
   "id": "4736d929802c2462",
   "outputs": [
    {
     "data": {
      "text/plain": [
       "array([[[0.23232542, 0.3829509 ],\n",
       "        [0.07766082, 0.1235165 ],\n",
       "        [0.10600283, 0.00469613]],\n",
       "\n",
       "       [[0.44812559, 0.05878572],\n",
       "        [0.019075  , 0.09228366],\n",
       "        [0.43016802, 0.06328194]]])"
      ]
     },
     "execution_count": 30,
     "metadata": {},
     "output_type": "execute_result"
    }
   ],
   "execution_count": 30
  },
  {
   "metadata": {
    "ExecuteTime": {
     "end_time": "2024-06-04T13:17:15.247165Z",
     "start_time": "2024-06-04T13:17:15.245234Z"
    }
   },
   "cell_type": "code",
   "source": "np.random.random()",
   "id": "da50e5b16c32b546",
   "outputs": [
    {
     "data": {
      "text/plain": [
       "0.1741987656942824"
      ]
     },
     "execution_count": 31,
     "metadata": {},
     "output_type": "execute_result"
    }
   ],
   "execution_count": 31
  },
  {
   "metadata": {
    "ExecuteTime": {
     "end_time": "2024-06-04T13:17:15.252039Z",
     "start_time": "2024-06-04T13:17:15.250321Z"
    }
   },
   "cell_type": "code",
   "source": "data.shape",
   "id": "42d60fc097643da8",
   "outputs": [
    {
     "data": {
      "text/plain": [
       "(2, 3)"
      ]
     },
     "execution_count": 32,
     "metadata": {},
     "output_type": "execute_result"
    }
   ],
   "execution_count": 32
  },
  {
   "metadata": {
    "ExecuteTime": {
     "end_time": "2024-06-04T13:17:15.273291Z",
     "start_time": "2024-06-04T13:17:15.270937Z"
    }
   },
   "cell_type": "code",
   "source": "data.dtype",
   "id": "102bbd0bc04ccf88",
   "outputs": [
    {
     "data": {
      "text/plain": [
       "dtype('float64')"
      ]
     },
     "execution_count": 33,
     "metadata": {},
     "output_type": "execute_result"
    }
   ],
   "execution_count": 33
  },
  {
   "metadata": {
    "ExecuteTime": {
     "end_time": "2024-06-04T13:17:15.276047Z",
     "start_time": "2024-06-04T13:17:15.274126Z"
    }
   },
   "cell_type": "code",
   "source": "arr=np.random.random((4,3))",
   "id": "cb5719f1764dee97",
   "outputs": [],
   "execution_count": 34
  },
  {
   "metadata": {
    "ExecuteTime": {
     "end_time": "2024-06-04T13:17:15.278949Z",
     "start_time": "2024-06-04T13:17:15.276584Z"
    }
   },
   "cell_type": "code",
   "source": "arr",
   "id": "eda08a0bd88894b4",
   "outputs": [
    {
     "data": {
      "text/plain": [
       "array([[0.60477214, 0.2957021 , 0.41072048],\n",
       "       [0.13824486, 0.11732814, 0.31695191],\n",
       "       [0.72262348, 0.44443895, 0.14349407],\n",
       "       [0.07804819, 0.85170075, 0.03318045]])"
      ]
     },
     "execution_count": 35,
     "metadata": {},
     "output_type": "execute_result"
    }
   ],
   "execution_count": 35
  },
  {
   "metadata": {
    "ExecuteTime": {
     "end_time": "2024-06-04T13:17:15.282227Z",
     "start_time": "2024-06-04T13:17:15.279986Z"
    }
   },
   "cell_type": "code",
   "source": "arr.mean(0)",
   "id": "a7186b244fdf4f25",
   "outputs": [
    {
     "data": {
      "text/plain": [
       "array([0.38592217, 0.42729249, 0.22608673])"
      ]
     },
     "execution_count": 36,
     "metadata": {},
     "output_type": "execute_result"
    }
   ],
   "execution_count": 36
  },
  {
   "metadata": {
    "ExecuteTime": {
     "end_time": "2024-06-04T13:17:15.285193Z",
     "start_time": "2024-06-04T13:17:15.283207Z"
    }
   },
   "cell_type": "code",
   "source": [
    "demand = arr - arr.mean(axis=0)\n",
    "demand"
   ],
   "id": "f877a28ebe165102",
   "outputs": [
    {
     "data": {
      "text/plain": [
       "array([[ 0.21884997, -0.13159039,  0.18463375],\n",
       "       [-0.24767731, -0.30996434,  0.09086518],\n",
       "       [ 0.33670131,  0.01714646, -0.08259266],\n",
       "       [-0.30787397,  0.42440827, -0.19290628]])"
      ]
     },
     "execution_count": 37,
     "metadata": {},
     "output_type": "execute_result"
    }
   ],
   "execution_count": 37
  },
  {
   "metadata": {
    "ExecuteTime": {
     "end_time": "2024-06-04T13:17:15.287781Z",
     "start_time": "2024-06-04T13:17:15.285630Z"
    }
   },
   "cell_type": "code",
   "source": "demand.mean(0)",
   "id": "6f267fa1ae319bb6",
   "outputs": [
    {
     "data": {
      "text/plain": [
       "array([0., 0., 0.])"
      ]
     },
     "execution_count": 38,
     "metadata": {},
     "output_type": "execute_result"
    }
   ],
   "execution_count": 38
  },
  {
   "metadata": {
    "ExecuteTime": {
     "end_time": "2024-06-04T13:32:32.597306Z",
     "start_time": "2024-06-04T13:32:32.593292Z"
    }
   },
   "cell_type": "code",
   "source": "arr=np.empty((8,4))",
   "id": "f790e162b241a553",
   "outputs": [],
   "execution_count": 39
  },
  {
   "metadata": {
    "ExecuteTime": {
     "end_time": "2024-06-04T13:32:35.023946Z",
     "start_time": "2024-06-04T13:32:35.020214Z"
    }
   },
   "cell_type": "code",
   "source": "arr",
   "id": "7766528e127c7140",
   "outputs": [
    {
     "data": {
      "text/plain": [
       "array([[0., 0., 0., 0.],\n",
       "       [0., 0., 0., 0.],\n",
       "       [0., 0., 0., 0.],\n",
       "       [0., 0., 0., 0.],\n",
       "       [0., 0., 0., 0.],\n",
       "       [0., 0., 0., 0.],\n",
       "       [0., 0., 0., 0.],\n",
       "       [0., 0., 0., 0.]])"
      ]
     },
     "execution_count": 40,
     "metadata": {},
     "output_type": "execute_result"
    }
   ],
   "execution_count": 40
  },
  {
   "metadata": {
    "ExecuteTime": {
     "end_time": "2024-06-04T13:32:48.946366Z",
     "start_time": "2024-06-04T13:32:48.942976Z"
    }
   },
   "cell_type": "code",
   "source": [
    "for i in range(8):\n",
    "    arr[i]=i\n",
    "arr"
   ],
   "id": "e4c98b5bc227202c",
   "outputs": [
    {
     "data": {
      "text/plain": [
       "array([[0., 0., 0., 0.],\n",
       "       [1., 1., 1., 1.],\n",
       "       [2., 2., 2., 2.],\n",
       "       [3., 3., 3., 3.],\n",
       "       [4., 4., 4., 4.],\n",
       "       [5., 5., 5., 5.],\n",
       "       [6., 6., 6., 6.],\n",
       "       [7., 7., 7., 7.]])"
      ]
     },
     "execution_count": 41,
     "metadata": {},
     "output_type": "execute_result"
    }
   ],
   "execution_count": 41
  },
  {
   "metadata": {
    "ExecuteTime": {
     "end_time": "2024-06-04T13:32:59.609017Z",
     "start_time": "2024-06-04T13:32:59.605919Z"
    }
   },
   "cell_type": "code",
   "source": "arr[[4,3,0,6]]",
   "id": "97633e92e80cad06",
   "outputs": [
    {
     "data": {
      "text/plain": [
       "array([[4., 4., 4., 4.],\n",
       "       [3., 3., 3., 3.],\n",
       "       [0., 0., 0., 0.],\n",
       "       [6., 6., 6., 6.]])"
      ]
     },
     "execution_count": 42,
     "metadata": {},
     "output_type": "execute_result"
    }
   ],
   "execution_count": 42
  },
  {
   "metadata": {
    "ExecuteTime": {
     "end_time": "2024-06-04T13:33:14.257336Z",
     "start_time": "2024-06-04T13:33:14.253932Z"
    }
   },
   "cell_type": "code",
   "source": "arr[[-3,-5,-7]]",
   "id": "502ac07a734b942f",
   "outputs": [
    {
     "data": {
      "text/plain": [
       "array([[5., 5., 5., 5.],\n",
       "       [3., 3., 3., 3.],\n",
       "       [1., 1., 1., 1.]])"
      ]
     },
     "execution_count": 43,
     "metadata": {},
     "output_type": "execute_result"
    }
   ],
   "execution_count": 43
  },
  {
   "metadata": {
    "ExecuteTime": {
     "end_time": "2024-06-04T15:12:11.045114Z",
     "start_time": "2024-06-04T15:12:11.039232Z"
    }
   },
   "cell_type": "code",
   "source": "arr = np.arange(15).reshape(3,5)",
   "id": "d4cd4e651ba8536a",
   "outputs": [],
   "execution_count": 44
  },
  {
   "metadata": {
    "ExecuteTime": {
     "end_time": "2024-06-04T15:12:13.655191Z",
     "start_time": "2024-06-04T15:12:13.650913Z"
    }
   },
   "cell_type": "code",
   "source": "arr",
   "id": "d0f91e0c7d8c83fe",
   "outputs": [
    {
     "data": {
      "text/plain": [
       "array([[ 0,  1,  2,  3,  4],\n",
       "       [ 5,  6,  7,  8,  9],\n",
       "       [10, 11, 12, 13, 14]])"
      ]
     },
     "execution_count": 45,
     "metadata": {},
     "output_type": "execute_result"
    }
   ],
   "execution_count": 45
  },
  {
   "metadata": {
    "ExecuteTime": {
     "end_time": "2024-06-04T15:12:25.551057Z",
     "start_time": "2024-06-04T15:12:25.547929Z"
    }
   },
   "cell_type": "code",
   "source": "arr.T",
   "id": "2214ecd5c4a8552d",
   "outputs": [
    {
     "data": {
      "text/plain": [
       "array([[ 0,  5, 10],\n",
       "       [ 1,  6, 11],\n",
       "       [ 2,  7, 12],\n",
       "       [ 3,  8, 13],\n",
       "       [ 4,  9, 14]])"
      ]
     },
     "execution_count": 46,
     "metadata": {},
     "output_type": "execute_result"
    }
   ],
   "execution_count": 46
  },
  {
   "metadata": {
    "ExecuteTime": {
     "end_time": "2024-06-04T15:53:32.751094Z",
     "start_time": "2024-06-04T15:53:32.748030Z"
    }
   },
   "cell_type": "code",
   "source": "\n",
   "id": "3f8416c0f758a7b9",
   "outputs": [
    {
     "data": {
      "text/plain": [
       "[1, 2, 3]"
      ]
     },
     "execution_count": 68,
     "metadata": {},
     "output_type": "execute_result"
    }
   ],
   "execution_count": 68
  },
  {
   "metadata": {
    "ExecuteTime": {
     "end_time": "2024-06-04T15:53:33.304438Z",
     "start_time": "2024-06-04T15:53:33.301664Z"
    }
   },
   "cell_type": "code",
   "source": "",
   "id": "b7c66a364526aa0c",
   "outputs": [],
   "execution_count": 69
  },
  {
   "metadata": {
    "ExecuteTime": {
     "end_time": "2024-06-04T15:53:33.766551Z",
     "start_time": "2024-06-04T15:53:33.764670Z"
    }
   },
   "cell_type": "code",
   "source": "aa(a)",
   "id": "a680e575755a674a",
   "outputs": [],
   "execution_count": 70
  },
  {
   "metadata": {
    "ExecuteTime": {
     "end_time": "2024-06-04T15:53:35.963984Z",
     "start_time": "2024-06-04T15:53:35.960749Z"
    }
   },
   "cell_type": "code",
   "source": "a",
   "id": "df8413ac851dde29",
   "outputs": [
    {
     "data": {
      "text/plain": [
       "[1, 2, 3, 4]"
      ]
     },
     "execution_count": 71,
     "metadata": {},
     "output_type": "execute_result"
    }
   ],
   "execution_count": 71
  },
  {
   "metadata": {},
   "cell_type": "code",
   "outputs": [],
   "execution_count": null,
   "source": "",
   "id": "1147273102d349d4"
  }
 ],
 "metadata": {
  "kernelspec": {
   "display_name": "Python 3",
   "language": "python",
   "name": "python3"
  },
  "language_info": {
   "codemirror_mode": {
    "name": "ipython",
    "version": 2
   },
   "file_extension": ".py",
   "mimetype": "text/x-python",
   "name": "python",
   "nbconvert_exporter": "python",
   "pygments_lexer": "ipython2",
   "version": "2.7.6"
  }
 },
 "nbformat": 4,
 "nbformat_minor": 5
}
